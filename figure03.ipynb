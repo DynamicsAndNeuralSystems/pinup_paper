{
 "cells": [
  {
   "cell_type": "code",
   "execution_count": 1,
   "metadata": {},
   "outputs": [],
   "source": [
    "# Kieran Owens 20234\n",
    "# .ipynb to reproduce figure 3\n",
    "\n",
    "##############################################################################\n",
    "# Contents\n",
    "##############################################################################\n",
    "# Dependencies\n",
    "# Global variables\n",
    "\n",
    "# 2a. Lorenz\n",
    "# 2b. Logistic map\n",
    "# 2c. Langford\n",
    "# 2d. Sine map"
   ]
  },
  {
   "cell_type": "code",
   "execution_count": 2,
   "metadata": {},
   "outputs": [],
   "source": [
    "# local modules\n",
    "import sys\n",
    "sys.path.append('./src/')\n",
    "from process import ProcessLorenz, ProcessLogistic, ProcessLangford, ProcessSin\n",
    "from process import get_parameters, integrateODE, computeMap\n",
    "from utils import compute_rho, plot_experiment\n",
    "\n",
    "# scientific computing\n",
    "import os\n",
    "import numpy as np\n",
    "import pycatch22"
   ]
  },
  {
   "cell_type": "code",
   "execution_count": 3,
   "metadata": {},
   "outputs": [],
   "source": [
    "##############################################################################\n",
    "# Global variables\n",
    "##############################################################################\n",
    "\n",
    "DPI = 500"
   ]
  },
  {
   "cell_type": "markdown",
   "metadata": {},
   "source": [
    "# Trivial case - Lorenz"
   ]
  },
  {
   "cell_type": "code",
   "execution_count": 4,
   "metadata": {},
   "outputs": [],
   "source": [
    "##############################################################################\n",
    "# 2a. Trivial case - Lorenz\n",
    "##############################################################################\n",
    "\n",
    "# integrate the Lorenz process\n",
    "T = np.arange(0.0, 1000.0, 0.01)\n",
    "params, p = get_parameters(ProcessLorenz, T, 2, f\"sin 2\", 0.1)\n",
    "X = integrateODE(ProcessLorenz, T, p=params, method=\"RK45\")"
   ]
  },
  {
   "cell_type": "code",
   "execution_count": 5,
   "metadata": {},
   "outputs": [
    {
     "name": "stderr",
     "output_type": "stream",
     "text": [
      "  0%|          | 0/20 [00:00<?, ?it/s]"
     ]
    },
    {
     "name": "stdout",
     "output_type": "stream",
     "text": [
      "Iter 0, noise 0.01, SFA2...\n",
      "(100000,) (99880, 1)\n",
      "Iter 0, noise 0.01, ESN error...\n",
      "Iter 0, noise 0.01, time-series feature...\n",
      "Iter 0, noise 0.01, CD...\n",
      "Iter 0, noise 0.1, SFA2...\n",
      "(100000,) (99880, 1)\n",
      "Iter 0, noise 0.1, ESN error...\n",
      "Iter 0, noise 0.1, time-series feature...\n",
      "Iter 0, noise 0.1, CD...\n",
      "Iter 0, noise 1.0, SFA2...\n",
      "(100000,) (99874, 1)\n",
      "Iter 0, noise 1.0, ESN error...\n",
      "Iter 0, noise 1.0, time-series feature...\n",
      "Iter 0, noise 1.0, CD...\n"
     ]
    },
    {
     "name": "stderr",
     "output_type": "stream",
     "text": [
      "  5%|▌         | 1/20 [35:26<11:13:31, 2126.90s/it]"
     ]
    },
    {
     "name": "stdout",
     "output_type": "stream",
     "text": [
      "Iter 1, noise 0.01, SFA2...\n",
      "(100000,) (99880, 1)\n",
      "Iter 1, noise 0.01, ESN error...\n",
      "Iter 1, noise 0.01, time-series feature...\n",
      "Iter 1, noise 0.01, CD...\n",
      "Iter 1, noise 0.1, SFA2...\n",
      "(100000,) (99880, 1)\n",
      "Iter 1, noise 0.1, ESN error...\n",
      "Iter 1, noise 0.1, time-series feature...\n",
      "Iter 1, noise 0.1, CD...\n",
      "Iter 1, noise 1.0, SFA2...\n",
      "(100000,) (99880, 1)\n",
      "Iter 1, noise 1.0, ESN error...\n",
      "Iter 1, noise 1.0, time-series feature...\n",
      "Iter 1, noise 1.0, CD...\n"
     ]
    },
    {
     "name": "stderr",
     "output_type": "stream",
     "text": [
      " 10%|█         | 2/20 [1:11:17<10:42:11, 2140.66s/it]"
     ]
    },
    {
     "name": "stdout",
     "output_type": "stream",
     "text": [
      "Iter 2, noise 0.01, SFA2...\n",
      "(100000,) (99880, 1)\n",
      "Iter 2, noise 0.01, ESN error...\n",
      "Iter 2, noise 0.01, time-series feature...\n",
      "Iter 2, noise 0.01, CD...\n",
      "Iter 2, noise 0.1, SFA2...\n",
      "(100000,) (99880, 1)\n",
      "Iter 2, noise 0.1, ESN error...\n",
      "Iter 2, noise 0.1, time-series feature...\n",
      "Iter 2, noise 0.1, CD...\n",
      "Iter 2, noise 1.0, SFA2...\n",
      "(100000,) (99880, 1)\n",
      "Iter 2, noise 1.0, ESN error...\n",
      "Iter 2, noise 1.0, time-series feature...\n",
      "Iter 2, noise 1.0, CD...\n"
     ]
    },
    {
     "name": "stderr",
     "output_type": "stream",
     "text": [
      " 15%|█▌        | 3/20 [1:47:02<10:07:05, 2142.67s/it]"
     ]
    },
    {
     "name": "stdout",
     "output_type": "stream",
     "text": [
      "Iter 3, noise 0.01, SFA2...\n",
      "(100000,) (99880, 1)\n",
      "Iter 3, noise 0.01, ESN error...\n",
      "Iter 3, noise 0.01, time-series feature...\n",
      "Iter 3, noise 0.01, CD...\n",
      "Iter 3, noise 0.1, SFA2...\n",
      "(100000,) (99880, 1)\n",
      "Iter 3, noise 0.1, ESN error...\n",
      "Iter 3, noise 0.1, time-series feature...\n",
      "Iter 3, noise 0.1, CD...\n",
      "Iter 3, noise 1.0, SFA2...\n",
      "(100000,) (99880, 1)\n",
      "Iter 3, noise 1.0, ESN error...\n",
      "Iter 3, noise 1.0, time-series feature...\n",
      "Iter 3, noise 1.0, CD...\n"
     ]
    },
    {
     "name": "stderr",
     "output_type": "stream",
     "text": [
      " 20%|██        | 4/20 [2:22:45<9:31:25, 2142.86s/it] "
     ]
    },
    {
     "name": "stdout",
     "output_type": "stream",
     "text": [
      "Iter 4, noise 0.01, SFA2...\n",
      "(100000,) (99880, 1)\n",
      "Iter 4, noise 0.01, ESN error...\n",
      "Iter 4, noise 0.01, time-series feature...\n",
      "Iter 4, noise 0.01, CD...\n",
      "Iter 4, noise 0.1, SFA2...\n",
      "(100000,) (99880, 1)\n",
      "Iter 4, noise 0.1, ESN error...\n",
      "Iter 4, noise 0.1, time-series feature...\n",
      "Iter 4, noise 0.1, CD...\n",
      "Iter 4, noise 1.0, SFA2...\n",
      "(100000,) (99874, 1)\n",
      "Iter 4, noise 1.0, ESN error...\n",
      "Iter 4, noise 1.0, time-series feature...\n",
      "Iter 4, noise 1.0, CD...\n"
     ]
    },
    {
     "name": "stderr",
     "output_type": "stream",
     "text": [
      " 25%|██▌       | 5/20 [2:58:27<8:55:41, 2142.73s/it]"
     ]
    },
    {
     "name": "stdout",
     "output_type": "stream",
     "text": [
      "Iter 5, noise 0.01, SFA2...\n",
      "(100000,) (99880, 1)\n",
      "Iter 5, noise 0.01, ESN error...\n",
      "Iter 5, noise 0.01, time-series feature...\n",
      "Iter 5, noise 0.01, CD...\n",
      "Iter 5, noise 0.1, SFA2...\n",
      "(100000,) (99880, 1)\n",
      "Iter 5, noise 0.1, ESN error...\n",
      "Iter 5, noise 0.1, time-series feature...\n",
      "Iter 5, noise 0.1, CD...\n",
      "Iter 5, noise 1.0, SFA2...\n",
      "(100000,) (99880, 1)\n",
      "Iter 5, noise 1.0, ESN error...\n",
      "Iter 5, noise 1.0, time-series feature...\n",
      "Iter 5, noise 1.0, CD...\n"
     ]
    },
    {
     "name": "stderr",
     "output_type": "stream",
     "text": [
      " 30%|███       | 6/20 [3:34:09<8:19:54, 2142.48s/it]"
     ]
    },
    {
     "name": "stdout",
     "output_type": "stream",
     "text": [
      "Iter 6, noise 0.01, SFA2...\n",
      "(100000,) (99880, 1)\n",
      "Iter 6, noise 0.01, ESN error...\n",
      "Iter 6, noise 0.01, time-series feature...\n",
      "Iter 6, noise 0.01, CD...\n",
      "Iter 6, noise 0.1, SFA2...\n",
      "(100000,) (99880, 1)\n",
      "Iter 6, noise 0.1, ESN error...\n",
      "Iter 6, noise 0.1, time-series feature...\n",
      "Iter 6, noise 0.1, CD...\n",
      "Iter 6, noise 1.0, SFA2...\n",
      "(100000,) (99880, 1)\n",
      "Iter 6, noise 1.0, ESN error...\n",
      "Iter 6, noise 1.0, time-series feature...\n",
      "Iter 6, noise 1.0, CD...\n"
     ]
    },
    {
     "name": "stderr",
     "output_type": "stream",
     "text": [
      " 35%|███▌      | 7/20 [4:09:57<7:44:34, 2144.19s/it]"
     ]
    },
    {
     "name": "stdout",
     "output_type": "stream",
     "text": [
      "Iter 7, noise 0.01, SFA2...\n",
      "(100000,) (99880, 1)\n",
      "Iter 7, noise 0.01, ESN error...\n",
      "Iter 7, noise 0.01, time-series feature...\n",
      "Iter 7, noise 0.01, CD...\n",
      "Iter 7, noise 0.1, SFA2...\n",
      "(100000,) (99880, 1)\n",
      "Iter 7, noise 0.1, ESN error...\n",
      "Iter 7, noise 0.1, time-series feature...\n",
      "Iter 7, noise 0.1, CD...\n",
      "Iter 7, noise 1.0, SFA2...\n",
      "(100000,) (99880, 1)\n",
      "Iter 7, noise 1.0, ESN error...\n",
      "Iter 7, noise 1.0, time-series feature...\n",
      "Iter 7, noise 1.0, CD...\n"
     ]
    },
    {
     "name": "stderr",
     "output_type": "stream",
     "text": [
      " 40%|████      | 8/20 [4:45:47<7:09:13, 2146.13s/it]"
     ]
    },
    {
     "name": "stdout",
     "output_type": "stream",
     "text": [
      "Iter 8, noise 0.01, SFA2...\n",
      "(100000,) (99880, 1)\n",
      "Iter 8, noise 0.01, ESN error...\n",
      "Iter 8, noise 0.01, time-series feature...\n",
      "Iter 8, noise 0.01, CD...\n",
      "Iter 8, noise 0.1, SFA2...\n",
      "(100000,) (99880, 1)\n",
      "Iter 8, noise 0.1, ESN error...\n",
      "Iter 8, noise 0.1, time-series feature...\n",
      "Iter 8, noise 0.1, CD...\n",
      "Iter 8, noise 1.0, SFA2...\n",
      "(100000,) (99880, 1)\n",
      "Iter 8, noise 1.0, ESN error...\n",
      "Iter 8, noise 1.0, time-series feature...\n",
      "Iter 8, noise 1.0, CD...\n"
     ]
    },
    {
     "name": "stderr",
     "output_type": "stream",
     "text": [
      " 45%|████▌     | 9/20 [5:21:37<6:33:40, 2147.32s/it]"
     ]
    },
    {
     "name": "stdout",
     "output_type": "stream",
     "text": [
      "Iter 9, noise 0.01, SFA2...\n",
      "(100000,) (99880, 1)\n",
      "Iter 9, noise 0.01, ESN error...\n",
      "Iter 9, noise 0.01, time-series feature...\n",
      "Iter 9, noise 0.01, CD...\n",
      "Iter 9, noise 0.1, SFA2...\n",
      "(100000,) (99880, 1)\n",
      "Iter 9, noise 0.1, ESN error...\n",
      "Iter 9, noise 0.1, time-series feature...\n",
      "Iter 9, noise 0.1, CD...\n",
      "Iter 9, noise 1.0, SFA2...\n",
      "(100000,) (99880, 1)\n",
      "Iter 9, noise 1.0, ESN error...\n",
      "Iter 9, noise 1.0, time-series feature...\n",
      "Iter 9, noise 1.0, CD...\n"
     ]
    },
    {
     "name": "stderr",
     "output_type": "stream",
     "text": [
      " 50%|█████     | 10/20 [5:57:21<5:57:40, 2146.09s/it]"
     ]
    },
    {
     "name": "stdout",
     "output_type": "stream",
     "text": [
      "Iter 10, noise 0.01, SFA2...\n",
      "(100000,) (99880, 1)\n",
      "Iter 10, noise 0.01, ESN error...\n",
      "Iter 10, noise 0.01, time-series feature...\n",
      "Iter 10, noise 0.01, CD...\n",
      "Iter 10, noise 0.1, SFA2...\n",
      "(100000,) (99880, 1)\n",
      "Iter 10, noise 0.1, ESN error...\n",
      "Iter 10, noise 0.1, time-series feature...\n",
      "Iter 10, noise 0.1, CD...\n",
      "Iter 10, noise 1.0, SFA2...\n",
      "(100000,) (99874, 1)\n",
      "Iter 10, noise 1.0, ESN error...\n",
      "Iter 10, noise 1.0, time-series feature...\n",
      "Iter 10, noise 1.0, CD...\n"
     ]
    },
    {
     "name": "stderr",
     "output_type": "stream",
     "text": [
      " 55%|█████▌    | 11/20 [6:33:09<5:22:00, 2146.74s/it]"
     ]
    },
    {
     "name": "stdout",
     "output_type": "stream",
     "text": [
      "Iter 11, noise 0.01, SFA2...\n",
      "(100000,) (99880, 1)\n",
      "Iter 11, noise 0.01, ESN error...\n",
      "Iter 11, noise 0.01, time-series feature...\n",
      "Iter 11, noise 0.01, CD...\n",
      "Iter 11, noise 0.1, SFA2...\n",
      "(100000,) (99880, 1)\n",
      "Iter 11, noise 0.1, ESN error...\n",
      "Iter 11, noise 0.1, time-series feature...\n",
      "Iter 11, noise 0.1, CD...\n",
      "Iter 11, noise 1.0, SFA2...\n",
      "(100000,) (99874, 1)\n",
      "Iter 11, noise 1.0, ESN error...\n",
      "Iter 11, noise 1.0, time-series feature...\n",
      "Iter 11, noise 1.0, CD...\n"
     ]
    },
    {
     "name": "stderr",
     "output_type": "stream",
     "text": [
      " 60%|██████    | 12/20 [7:08:58<4:46:19, 2147.40s/it]"
     ]
    },
    {
     "name": "stdout",
     "output_type": "stream",
     "text": [
      "Iter 12, noise 0.01, SFA2...\n",
      "(100000,) (99880, 1)\n",
      "Iter 12, noise 0.01, ESN error...\n",
      "Iter 12, noise 0.01, time-series feature...\n",
      "Iter 12, noise 0.01, CD...\n",
      "Iter 12, noise 0.1, SFA2...\n",
      "(100000,) (99880, 1)\n",
      "Iter 12, noise 0.1, ESN error...\n",
      "Iter 12, noise 0.1, time-series feature...\n",
      "Iter 12, noise 0.1, CD...\n",
      "Iter 12, noise 1.0, SFA2...\n",
      "(100000,) (99880, 1)\n",
      "Iter 12, noise 1.0, ESN error...\n",
      "Iter 12, noise 1.0, time-series feature...\n",
      "Iter 12, noise 1.0, CD...\n"
     ]
    },
    {
     "name": "stderr",
     "output_type": "stream",
     "text": [
      " 65%|██████▌   | 13/20 [7:44:42<4:10:25, 2146.47s/it]"
     ]
    },
    {
     "name": "stdout",
     "output_type": "stream",
     "text": [
      "Iter 13, noise 0.01, SFA2...\n",
      "(100000,) (99880, 1)\n",
      "Iter 13, noise 0.01, ESN error...\n",
      "Iter 13, noise 0.01, time-series feature...\n",
      "Iter 13, noise 0.01, CD...\n",
      "Iter 13, noise 0.1, SFA2...\n",
      "(100000,) (99880, 1)\n",
      "Iter 13, noise 0.1, ESN error...\n",
      "Iter 13, noise 0.1, time-series feature...\n",
      "Iter 13, noise 0.1, CD...\n",
      "Iter 13, noise 1.0, SFA2...\n",
      "(100000,) (99880, 1)\n",
      "Iter 13, noise 1.0, ESN error...\n",
      "Iter 13, noise 1.0, time-series feature...\n",
      "Iter 13, noise 1.0, CD...\n"
     ]
    },
    {
     "name": "stderr",
     "output_type": "stream",
     "text": [
      " 70%|███████   | 14/20 [8:20:37<3:34:53, 2148.98s/it]"
     ]
    },
    {
     "name": "stdout",
     "output_type": "stream",
     "text": [
      "Iter 14, noise 0.01, SFA2...\n",
      "(100000,) (99880, 1)\n",
      "Iter 14, noise 0.01, ESN error...\n",
      "Iter 14, noise 0.01, time-series feature...\n",
      "Iter 14, noise 0.01, CD...\n",
      "Iter 14, noise 0.1, SFA2...\n",
      "(100000,) (99880, 1)\n",
      "Iter 14, noise 0.1, ESN error...\n",
      "Iter 14, noise 0.1, time-series feature...\n",
      "Iter 14, noise 0.1, CD...\n",
      "Iter 14, noise 1.0, SFA2...\n",
      "(100000,) (99880, 1)\n",
      "Iter 14, noise 1.0, ESN error...\n",
      "Iter 14, noise 1.0, time-series feature...\n",
      "Iter 14, noise 1.0, CD...\n"
     ]
    },
    {
     "name": "stderr",
     "output_type": "stream",
     "text": [
      " 75%|███████▌  | 15/20 [8:56:30<2:59:11, 2150.34s/it]"
     ]
    },
    {
     "name": "stdout",
     "output_type": "stream",
     "text": [
      "Iter 15, noise 0.01, SFA2...\n",
      "(100000,) (99880, 1)\n",
      "Iter 15, noise 0.01, ESN error...\n",
      "Iter 15, noise 0.01, time-series feature...\n",
      "Iter 15, noise 0.01, CD...\n",
      "Iter 15, noise 0.1, SFA2...\n",
      "(100000,) (99880, 1)\n",
      "Iter 15, noise 0.1, ESN error...\n",
      "Iter 15, noise 0.1, time-series feature...\n",
      "Iter 15, noise 0.1, CD...\n",
      "Iter 15, noise 1.0, SFA2...\n",
      "(100000,) (99880, 1)\n",
      "Iter 15, noise 1.0, ESN error...\n",
      "Iter 15, noise 1.0, time-series feature...\n",
      "Iter 15, noise 1.0, CD...\n"
     ]
    },
    {
     "name": "stderr",
     "output_type": "stream",
     "text": [
      " 80%|████████  | 16/20 [9:32:32<2:23:34, 2153.73s/it]"
     ]
    },
    {
     "name": "stdout",
     "output_type": "stream",
     "text": [
      "Iter 16, noise 0.01, SFA2...\n",
      "(100000,) (99880, 1)\n",
      "Iter 16, noise 0.01, ESN error...\n",
      "Iter 16, noise 0.01, time-series feature...\n",
      "Iter 16, noise 0.01, CD...\n",
      "Iter 16, noise 0.1, SFA2...\n",
      "(100000,) (99880, 1)\n",
      "Iter 16, noise 0.1, ESN error...\n",
      "Iter 16, noise 0.1, time-series feature...\n",
      "Iter 16, noise 0.1, CD...\n",
      "Iter 16, noise 1.0, SFA2...\n",
      "(100000,) (99880, 1)\n",
      "Iter 16, noise 1.0, ESN error...\n",
      "Iter 16, noise 1.0, time-series feature...\n",
      "Iter 16, noise 1.0, CD...\n"
     ]
    },
    {
     "name": "stderr",
     "output_type": "stream",
     "text": [
      " 85%|████████▌ | 17/20 [10:08:30<1:47:45, 2155.03s/it]"
     ]
    },
    {
     "name": "stdout",
     "output_type": "stream",
     "text": [
      "Iter 17, noise 0.01, SFA2...\n",
      "(100000,) (99880, 1)\n",
      "Iter 17, noise 0.01, ESN error...\n",
      "Iter 17, noise 0.01, time-series feature...\n",
      "Iter 17, noise 0.01, CD...\n",
      "Iter 17, noise 0.1, SFA2...\n",
      "(100000,) (99880, 1)\n",
      "Iter 17, noise 0.1, ESN error...\n",
      "Iter 17, noise 0.1, time-series feature...\n",
      "Iter 17, noise 0.1, CD...\n",
      "Iter 17, noise 1.0, SFA2...\n",
      "(100000,) (99880, 1)\n",
      "Iter 17, noise 1.0, ESN error...\n",
      "Iter 17, noise 1.0, time-series feature...\n",
      "Iter 17, noise 1.0, CD...\n"
     ]
    },
    {
     "name": "stderr",
     "output_type": "stream",
     "text": [
      " 90%|█████████ | 18/20 [10:44:23<1:11:48, 2154.28s/it]"
     ]
    },
    {
     "name": "stdout",
     "output_type": "stream",
     "text": [
      "Iter 18, noise 0.01, SFA2...\n",
      "(100000,) (99880, 1)\n",
      "Iter 18, noise 0.01, ESN error...\n",
      "Iter 18, noise 0.01, time-series feature...\n",
      "Iter 18, noise 0.01, CD...\n",
      "Iter 18, noise 0.1, SFA2...\n",
      "(100000,) (99880, 1)\n",
      "Iter 18, noise 0.1, ESN error...\n",
      "Iter 18, noise 0.1, time-series feature...\n",
      "Iter 18, noise 0.1, CD...\n",
      "Iter 18, noise 1.0, SFA2...\n",
      "(100000,) (99874, 1)\n",
      "Iter 18, noise 1.0, ESN error...\n",
      "Iter 18, noise 1.0, time-series feature...\n",
      "Iter 18, noise 1.0, CD...\n"
     ]
    },
    {
     "name": "stderr",
     "output_type": "stream",
     "text": [
      " 95%|█████████▌| 19/20 [11:20:19<35:54, 2154.87s/it]  "
     ]
    },
    {
     "name": "stdout",
     "output_type": "stream",
     "text": [
      "Iter 19, noise 0.01, SFA2...\n",
      "(100000,) (99880, 1)\n",
      "Iter 19, noise 0.01, ESN error...\n",
      "Iter 19, noise 0.01, time-series feature...\n",
      "Iter 19, noise 0.01, CD...\n",
      "Iter 19, noise 0.1, SFA2...\n",
      "(100000,) (99880, 1)\n",
      "Iter 19, noise 0.1, ESN error...\n",
      "Iter 19, noise 0.1, time-series feature...\n",
      "Iter 19, noise 0.1, CD...\n",
      "Iter 19, noise 1.0, SFA2...\n",
      "(100000,) (99874, 1)\n",
      "Iter 19, noise 1.0, ESN error...\n",
      "Iter 19, noise 1.0, time-series feature...\n",
      "Iter 19, noise 1.0, CD...\n"
     ]
    },
    {
     "name": "stderr",
     "output_type": "stream",
     "text": [
      "100%|██████████| 20/20 [11:56:16<00:00, 2148.84s/it]\n"
     ]
    }
   ],
   "source": [
    "# experiment loop\n",
    "RHOS = compute_rho(X, p, func=pycatch22.DN_Mean, var=2)\n",
    "np.save('./data/fig03a.npy', RHOS, allow_pickle=False)"
   ]
  },
  {
   "cell_type": "code",
   "execution_count": 6,
   "metadata": {},
   "outputs": [
    {
     "name": "stdout",
     "output_type": "stream",
     "text": [
      "0.0001833784559238866\n",
      "0.0070769925881156845\n",
      "0.20609890714179885\n",
      "0.00040644289067732754\n",
      "0.00015274260866572536\n",
      "0.0070777047388011554\n",
      "0.2020414273343097\n",
      "0.0016365377806325163\n",
      "0.0003270882451130175\n",
      "0.010135734597224898\n",
      "0.14986444741796268\n",
      "0.005178884454087723\n"
     ]
    },
    {
     "data": {
      "image/png": "[encoded data removed]",
      "text/plain": [
       "<Figure size 600x240 with 3 Axes>"
      ]
     },
     "metadata": {},
     "output_type": "display_data"
    }
   ],
   "source": [
    "# load data if already computed\n",
    "if os.path.isfile('./data/fig03a.npy'):\n",
    "    RHOS = np.load('./data/fig03a.npy')\n",
    "    \n",
    "# create figure\n",
    "fig = plot_experiment(X, p, RHOS**2, markersize=1, linewidth=0.1, fname='mean', legend=True, text='abc')\n",
    "\n",
    "# save figure\n",
    "fig.savefig('./figs/fig03a.pdf', format='pdf', dpi=DPI, bbox_inches='tight')"
   ]
  },
  {
   "cell_type": "markdown",
   "metadata": {},
   "source": [
    "# Trivial case - logistic"
   ]
  },
  {
   "cell_type": "code",
   "execution_count": 7,
   "metadata": {},
   "outputs": [],
   "source": [
    "##############################################################################\n",
    "# 2a. Trivial case - Logistic\n",
    "##############################################################################\n",
    "\n",
    "T = np.arange(10**5)\n",
    "params, p = get_parameters(ProcessLogistic, T, 0, \"sin 2\", 0.1)\n",
    "X = computeMap(ProcessLogistic, T, params)"
   ]
  },
  {
   "cell_type": "code",
   "execution_count": 8,
   "metadata": {},
   "outputs": [
    {
     "name": "stderr",
     "output_type": "stream",
     "text": [
      "  0%|          | 0/20 [00:00<?, ?it/s]"
     ]
    },
    {
     "name": "stdout",
     "output_type": "stream",
     "text": [
      "Iter 0, noise 0.01, SFA2...\n",
      "(100000,) (99998, 1)\n",
      "Iter 0, noise 0.01, ESN error...\n",
      "Iter 0, noise 0.01, time-series feature...\n",
      "Iter 0, noise 0.01, CD...\n",
      "Iter 0, noise 0.1, SFA2...\n",
      "(100000,) (99998, 1)\n",
      "Iter 0, noise 0.1, ESN error...\n",
      "Iter 0, noise 0.1, time-series feature...\n",
      "Iter 0, noise 0.1, CD...\n",
      "Iter 0, noise 1.0, SFA2...\n",
      "(100000,) (99998, 1)\n",
      "Iter 0, noise 1.0, ESN error...\n",
      "Iter 0, noise 1.0, time-series feature...\n",
      "Iter 0, noise 1.0, CD...\n"
     ]
    },
    {
     "name": "stderr",
     "output_type": "stream",
     "text": [
      "  5%|▌         | 1/20 [35:55<11:22:26, 2155.10s/it]"
     ]
    },
    {
     "name": "stdout",
     "output_type": "stream",
     "text": [
      "Iter 1, noise 0.01, SFA2...\n",
      "(100000,) (99998, 1)\n",
      "Iter 1, noise 0.01, ESN error...\n",
      "Iter 1, noise 0.01, time-series feature...\n",
      "Iter 1, noise 0.01, CD...\n",
      "Iter 1, noise 0.1, SFA2...\n",
      "(100000,) (99998, 1)\n",
      "Iter 1, noise 0.1, ESN error...\n",
      "Iter 1, noise 0.1, time-series feature...\n",
      "Iter 1, noise 0.1, CD...\n",
      "Iter 1, noise 1.0, SFA2...\n",
      "(100000,) (99998, 1)\n",
      "Iter 1, noise 1.0, ESN error...\n",
      "Iter 1, noise 1.0, time-series feature...\n",
      "Iter 1, noise 1.0, CD...\n"
     ]
    },
    {
     "name": "stderr",
     "output_type": "stream",
     "text": [
      " 10%|█         | 2/20 [1:11:48<10:46:17, 2154.29s/it]"
     ]
    },
    {
     "name": "stdout",
     "output_type": "stream",
     "text": [
      "Iter 2, noise 0.01, SFA2...\n",
      "(100000,) (99998, 1)\n",
      "Iter 2, noise 0.01, ESN error...\n",
      "Iter 2, noise 0.01, time-series feature...\n",
      "Iter 2, noise 0.01, CD...\n",
      "Iter 2, noise 0.1, SFA2...\n",
      "(100000,) (99998, 1)\n",
      "Iter 2, noise 0.1, ESN error...\n",
      "Iter 2, noise 0.1, time-series feature...\n",
      "Iter 2, noise 0.1, CD...\n",
      "Iter 2, noise 1.0, SFA2...\n",
      "(100000,) (99998, 1)\n",
      "Iter 2, noise 1.0, ESN error...\n",
      "Iter 2, noise 1.0, time-series feature...\n",
      "Iter 2, noise 1.0, CD...\n"
     ]
    },
    {
     "name": "stderr",
     "output_type": "stream",
     "text": [
      " 15%|█▌        | 3/20 [1:47:56<10:12:06, 2160.38s/it]"
     ]
    },
    {
     "name": "stdout",
     "output_type": "stream",
     "text": [
      "Iter 3, noise 0.01, SFA2...\n",
      "(100000,) (99998, 1)\n",
      "Iter 3, noise 0.01, ESN error...\n",
      "Iter 3, noise 0.01, time-series feature...\n",
      "Iter 3, noise 0.01, CD...\n",
      "Iter 3, noise 0.1, SFA2...\n",
      "(100000,) (99998, 1)\n",
      "Iter 3, noise 0.1, ESN error...\n",
      "Iter 3, noise 0.1, time-series feature...\n",
      "Iter 3, noise 0.1, CD...\n",
      "Iter 3, noise 1.0, SFA2...\n",
      "(100000,) (99998, 1)\n",
      "Iter 3, noise 1.0, ESN error...\n",
      "Iter 3, noise 1.0, time-series feature...\n",
      "Iter 3, noise 1.0, CD...\n"
     ]
    },
    {
     "name": "stderr",
     "output_type": "stream",
     "text": [
      " 20%|██        | 4/20 [2:24:09<9:37:23, 2165.23s/it] "
     ]
    },
    {
     "name": "stdout",
     "output_type": "stream",
     "text": [
      "Iter 4, noise 0.01, SFA2...\n",
      "(100000,) (99998, 1)\n",
      "Iter 4, noise 0.01, ESN error...\n",
      "Iter 4, noise 0.01, time-series feature...\n",
      "Iter 4, noise 0.01, CD...\n",
      "Iter 4, noise 0.1, SFA2...\n",
      "(100000,) (99998, 1)\n",
      "Iter 4, noise 0.1, ESN error...\n",
      "Iter 4, noise 0.1, time-series feature...\n",
      "Iter 4, noise 0.1, CD...\n",
      "Iter 4, noise 1.0, SFA2...\n",
      "(100000,) (99998, 1)\n",
      "Iter 4, noise 1.0, ESN error...\n",
      "Iter 4, noise 1.0, time-series feature...\n",
      "Iter 4, noise 1.0, CD...\n"
     ]
    },
    {
     "name": "stderr",
     "output_type": "stream",
     "text": [
      " 25%|██▌       | 5/20 [3:00:20<9:01:49, 2167.32s/it]"
     ]
    },
    {
     "name": "stdout",
     "output_type": "stream",
     "text": [
      "Iter 5, noise 0.01, SFA2...\n",
      "(100000,) (99998, 1)\n",
      "Iter 5, noise 0.01, ESN error...\n",
      "Iter 5, noise 0.01, time-series feature...\n",
      "Iter 5, noise 0.01, CD...\n",
      "Iter 5, noise 0.1, SFA2...\n",
      "(100000,) (99998, 1)\n",
      "Iter 5, noise 0.1, ESN error...\n",
      "Iter 5, noise 0.1, time-series feature...\n",
      "Iter 5, noise 0.1, CD...\n",
      "Iter 5, noise 1.0, SFA2...\n",
      "(100000,) (99998, 1)\n",
      "Iter 5, noise 1.0, ESN error...\n",
      "Iter 5, noise 1.0, time-series feature...\n",
      "Iter 5, noise 1.0, CD...\n"
     ]
    },
    {
     "name": "stderr",
     "output_type": "stream",
     "text": [
      " 30%|███       | 6/20 [3:36:09<8:24:16, 2161.16s/it]"
     ]
    },
    {
     "name": "stdout",
     "output_type": "stream",
     "text": [
      "Iter 6, noise 0.01, SFA2...\n",
      "(100000,) (99998, 1)\n",
      "Iter 6, noise 0.01, ESN error...\n",
      "Iter 6, noise 0.01, time-series feature...\n",
      "Iter 6, noise 0.01, CD...\n",
      "Iter 6, noise 0.1, SFA2...\n",
      "(100000,) (99998, 1)\n",
      "Iter 6, noise 0.1, ESN error...\n",
      "Iter 6, noise 0.1, time-series feature...\n",
      "Iter 6, noise 0.1, CD...\n",
      "Iter 6, noise 1.0, SFA2...\n",
      "(100000,) (99998, 1)\n",
      "Iter 6, noise 1.0, ESN error...\n",
      "Iter 6, noise 1.0, time-series feature...\n",
      "Iter 6, noise 1.0, CD...\n"
     ]
    },
    {
     "name": "stderr",
     "output_type": "stream",
     "text": [
      " 35%|███▌      | 7/20 [4:12:01<7:47:36, 2158.19s/it]"
     ]
    },
    {
     "name": "stdout",
     "output_type": "stream",
     "text": [
      "Iter 7, noise 0.01, SFA2...\n",
      "(100000,) (99998, 1)\n",
      "Iter 7, noise 0.01, ESN error...\n",
      "Iter 7, noise 0.01, time-series feature...\n",
      "Iter 7, noise 0.01, CD...\n",
      "Iter 7, noise 0.1, SFA2...\n",
      "(100000,) (99998, 1)\n",
      "Iter 7, noise 0.1, ESN error...\n",
      "Iter 7, noise 0.1, time-series feature...\n",
      "Iter 7, noise 0.1, CD...\n",
      "Iter 7, noise 1.0, SFA2...\n",
      "(100000,) (99998, 1)\n",
      "Iter 7, noise 1.0, ESN error...\n",
      "Iter 7, noise 1.0, time-series feature...\n",
      "Iter 7, noise 1.0, CD...\n"
     ]
    },
    {
     "name": "stderr",
     "output_type": "stream",
     "text": [
      " 40%|████      | 8/20 [4:47:56<7:11:25, 2157.16s/it]"
     ]
    },
    {
     "name": "stdout",
     "output_type": "stream",
     "text": [
      "Iter 8, noise 0.01, SFA2...\n",
      "(100000,) (99998, 1)\n",
      "Iter 8, noise 0.01, ESN error...\n",
      "Iter 8, noise 0.01, time-series feature...\n",
      "Iter 8, noise 0.01, CD...\n",
      "Iter 8, noise 0.1, SFA2...\n",
      "(100000,) (99998, 1)\n",
      "Iter 8, noise 0.1, ESN error...\n",
      "Iter 8, noise 0.1, time-series feature...\n",
      "Iter 8, noise 0.1, CD...\n",
      "Iter 8, noise 1.0, SFA2...\n",
      "(100000,) (99998, 1)\n",
      "Iter 8, noise 1.0, ESN error...\n",
      "Iter 8, noise 1.0, time-series feature...\n",
      "Iter 8, noise 1.0, CD...\n"
     ]
    },
    {
     "name": "stderr",
     "output_type": "stream",
     "text": [
      " 45%|████▌     | 9/20 [5:23:50<6:35:19, 2156.31s/it]"
     ]
    },
    {
     "name": "stdout",
     "output_type": "stream",
     "text": [
      "Iter 9, noise 0.01, SFA2...\n",
      "(100000,) (99998, 1)\n",
      "Iter 9, noise 0.01, ESN error...\n",
      "Iter 9, noise 0.01, time-series feature...\n",
      "Iter 9, noise 0.01, CD...\n",
      "Iter 9, noise 0.1, SFA2...\n",
      "(100000,) (99998, 1)\n",
      "Iter 9, noise 0.1, ESN error...\n",
      "Iter 9, noise 0.1, time-series feature...\n",
      "Iter 9, noise 0.1, CD...\n",
      "Iter 9, noise 1.0, SFA2...\n",
      "(100000,) (99998, 1)\n",
      "Iter 9, noise 1.0, ESN error...\n",
      "Iter 9, noise 1.0, time-series feature...\n",
      "Iter 9, noise 1.0, CD...\n"
     ]
    },
    {
     "name": "stderr",
     "output_type": "stream",
     "text": [
      " 50%|█████     | 10/20 [5:59:54<5:59:44, 2158.46s/it]"
     ]
    },
    {
     "name": "stdout",
     "output_type": "stream",
     "text": [
      "Iter 10, noise 0.01, SFA2...\n",
      "(100000,) (99998, 1)\n",
      "Iter 10, noise 0.01, ESN error...\n",
      "Iter 10, noise 0.01, time-series feature...\n",
      "Iter 10, noise 0.01, CD...\n",
      "Iter 10, noise 0.1, SFA2...\n",
      "(100000,) (99998, 1)\n",
      "Iter 10, noise 0.1, ESN error...\n",
      "Iter 10, noise 0.1, time-series feature...\n",
      "Iter 10, noise 0.1, CD...\n",
      "Iter 10, noise 1.0, SFA2...\n",
      "(100000,) (99998, 1)\n",
      "Iter 10, noise 1.0, ESN error...\n",
      "Iter 10, noise 1.0, time-series feature...\n",
      "Iter 10, noise 1.0, CD...\n"
     ]
    },
    {
     "name": "stderr",
     "output_type": "stream",
     "text": [
      " 55%|█████▌    | 11/20 [6:35:53<5:23:50, 2158.90s/it]"
     ]
    },
    {
     "name": "stdout",
     "output_type": "stream",
     "text": [
      "Iter 11, noise 0.01, SFA2...\n",
      "(100000,) (99998, 1)\n",
      "Iter 11, noise 0.01, ESN error...\n",
      "Iter 11, noise 0.01, time-series feature...\n",
      "Iter 11, noise 0.01, CD...\n",
      "Iter 11, noise 0.1, SFA2...\n",
      "(100000,) (99998, 1)\n",
      "Iter 11, noise 0.1, ESN error...\n",
      "Iter 11, noise 0.1, time-series feature...\n",
      "Iter 11, noise 0.1, CD...\n",
      "Iter 11, noise 1.0, SFA2...\n",
      "(100000,) (99998, 1)\n",
      "Iter 11, noise 1.0, ESN error...\n",
      "Iter 11, noise 1.0, time-series feature...\n",
      "Iter 11, noise 1.0, CD...\n"
     ]
    },
    {
     "name": "stderr",
     "output_type": "stream",
     "text": [
      " 60%|██████    | 12/20 [7:11:44<4:47:30, 2156.33s/it]"
     ]
    },
    {
     "name": "stdout",
     "output_type": "stream",
     "text": [
      "Iter 12, noise 0.01, SFA2...\n",
      "(100000,) (99998, 1)\n",
      "Iter 12, noise 0.01, ESN error...\n",
      "Iter 12, noise 0.01, time-series feature...\n",
      "Iter 12, noise 0.01, CD...\n",
      "Iter 12, noise 0.1, SFA2...\n",
      "(100000,) (99998, 1)\n",
      "Iter 12, noise 0.1, ESN error...\n",
      "Iter 12, noise 0.1, time-series feature...\n",
      "Iter 12, noise 0.1, CD...\n",
      "Iter 12, noise 1.0, SFA2...\n",
      "(100000,) (99998, 1)\n",
      "Iter 12, noise 1.0, ESN error...\n",
      "Iter 12, noise 1.0, time-series feature...\n",
      "Iter 12, noise 1.0, CD...\n"
     ]
    },
    {
     "name": "stderr",
     "output_type": "stream",
     "text": [
      " 65%|██████▌   | 13/20 [7:47:33<4:11:19, 2154.25s/it]"
     ]
    },
    {
     "name": "stdout",
     "output_type": "stream",
     "text": [
      "Iter 13, noise 0.01, SFA2...\n",
      "(100000,) (99998, 1)\n",
      "Iter 13, noise 0.01, ESN error...\n",
      "Iter 13, noise 0.01, time-series feature...\n",
      "Iter 13, noise 0.01, CD...\n",
      "Iter 13, noise 0.1, SFA2...\n",
      "(100000,) (99998, 1)\n",
      "Iter 13, noise 0.1, ESN error...\n",
      "Iter 13, noise 0.1, time-series feature...\n",
      "Iter 13, noise 0.1, CD...\n",
      "Iter 13, noise 1.0, SFA2...\n",
      "(100000,) (99998, 1)\n",
      "Iter 13, noise 1.0, ESN error...\n",
      "Iter 13, noise 1.0, time-series feature...\n",
      "Iter 13, noise 1.0, CD...\n"
     ]
    },
    {
     "name": "stderr",
     "output_type": "stream",
     "text": [
      " 70%|███████   | 14/20 [8:23:16<3:35:05, 2150.84s/it]"
     ]
    },
    {
     "name": "stdout",
     "output_type": "stream",
     "text": [
      "Iter 14, noise 0.01, SFA2...\n",
      "(100000,) (99998, 1)\n",
      "Iter 14, noise 0.01, ESN error...\n",
      "Iter 14, noise 0.01, time-series feature...\n",
      "Iter 14, noise 0.01, CD...\n",
      "Iter 14, noise 0.1, SFA2...\n",
      "(100000,) (99998, 1)\n",
      "Iter 14, noise 0.1, ESN error...\n",
      "Iter 14, noise 0.1, time-series feature...\n",
      "Iter 14, noise 0.1, CD...\n",
      "Iter 14, noise 1.0, SFA2...\n",
      "(100000,) (99998, 1)\n",
      "Iter 14, noise 1.0, ESN error...\n",
      "Iter 14, noise 1.0, time-series feature...\n",
      "Iter 14, noise 1.0, CD...\n"
     ]
    },
    {
     "name": "stderr",
     "output_type": "stream",
     "text": [
      " 75%|███████▌  | 15/20 [8:59:10<2:59:17, 2151.60s/it]"
     ]
    },
    {
     "name": "stdout",
     "output_type": "stream",
     "text": [
      "Iter 15, noise 0.01, SFA2...\n",
      "(100000,) (99998, 1)\n",
      "Iter 15, noise 0.01, ESN error...\n",
      "Iter 15, noise 0.01, time-series feature...\n",
      "Iter 15, noise 0.01, CD...\n",
      "Iter 15, noise 0.1, SFA2...\n",
      "(100000,) (99998, 1)\n",
      "Iter 15, noise 0.1, ESN error...\n",
      "Iter 15, noise 0.1, time-series feature...\n",
      "Iter 15, noise 0.1, CD...\n",
      "Iter 15, noise 1.0, SFA2...\n",
      "(100000,) (99998, 1)\n",
      "Iter 15, noise 1.0, ESN error...\n",
      "Iter 15, noise 1.0, time-series feature...\n",
      "Iter 15, noise 1.0, CD...\n"
     ]
    },
    {
     "name": "stderr",
     "output_type": "stream",
     "text": [
      " 80%|████████  | 16/20 [9:34:58<2:23:22, 2150.51s/it]"
     ]
    },
    {
     "name": "stdout",
     "output_type": "stream",
     "text": [
      "Iter 16, noise 0.01, SFA2...\n",
      "(100000,) (99998, 1)\n",
      "Iter 16, noise 0.01, ESN error...\n",
      "Iter 16, noise 0.01, time-series feature...\n",
      "Iter 16, noise 0.01, CD...\n",
      "Iter 16, noise 0.1, SFA2...\n",
      "(100000,) (99998, 1)\n",
      "Iter 16, noise 0.1, ESN error...\n",
      "Iter 16, noise 0.1, time-series feature...\n",
      "Iter 16, noise 0.1, CD...\n",
      "Iter 16, noise 1.0, SFA2...\n",
      "(100000,) (99998, 1)\n",
      "Iter 16, noise 1.0, ESN error...\n",
      "Iter 16, noise 1.0, time-series feature...\n",
      "Iter 16, noise 1.0, CD...\n"
     ]
    },
    {
     "name": "stderr",
     "output_type": "stream",
     "text": [
      " 85%|████████▌ | 17/20 [10:10:49<1:47:31, 2150.63s/it]"
     ]
    },
    {
     "name": "stdout",
     "output_type": "stream",
     "text": [
      "Iter 17, noise 0.01, SFA2...\n",
      "(100000,) (99998, 1)\n",
      "Iter 17, noise 0.01, ESN error...\n",
      "Iter 17, noise 0.01, time-series feature...\n",
      "Iter 17, noise 0.01, CD...\n",
      "Iter 17, noise 0.1, SFA2...\n",
      "(100000,) (99998, 1)\n",
      "Iter 17, noise 0.1, ESN error...\n",
      "Iter 17, noise 0.1, time-series feature...\n",
      "Iter 17, noise 0.1, CD...\n",
      "Iter 17, noise 1.0, SFA2...\n",
      "(100000,) (99998, 1)\n",
      "Iter 17, noise 1.0, ESN error...\n",
      "Iter 17, noise 1.0, time-series feature...\n",
      "Iter 17, noise 1.0, CD...\n"
     ]
    },
    {
     "name": "stderr",
     "output_type": "stream",
     "text": [
      " 90%|█████████ | 18/20 [10:46:39<1:11:41, 2150.61s/it]"
     ]
    },
    {
     "name": "stdout",
     "output_type": "stream",
     "text": [
      "Iter 18, noise 0.01, SFA2...\n",
      "(100000,) (99998, 1)\n",
      "Iter 18, noise 0.01, ESN error...\n",
      "Iter 18, noise 0.01, time-series feature...\n",
      "Iter 18, noise 0.01, CD...\n",
      "Iter 18, noise 0.1, SFA2...\n",
      "(100000,) (99998, 1)\n",
      "Iter 18, noise 0.1, ESN error...\n",
      "Iter 18, noise 0.1, time-series feature...\n",
      "Iter 18, noise 0.1, CD...\n",
      "Iter 18, noise 1.0, SFA2...\n",
      "(100000,) (99998, 1)\n",
      "Iter 18, noise 1.0, ESN error...\n",
      "Iter 18, noise 1.0, time-series feature...\n",
      "Iter 18, noise 1.0, CD...\n"
     ]
    },
    {
     "name": "stderr",
     "output_type": "stream",
     "text": [
      " 95%|█████████▌| 19/20 [11:22:29<35:50, 2150.50s/it]  "
     ]
    },
    {
     "name": "stdout",
     "output_type": "stream",
     "text": [
      "Iter 19, noise 0.01, SFA2...\n",
      "(100000,) (99998, 1)\n",
      "Iter 19, noise 0.01, ESN error...\n",
      "Iter 19, noise 0.01, time-series feature...\n",
      "Iter 19, noise 0.01, CD...\n",
      "Iter 19, noise 0.1, SFA2...\n",
      "(100000,) (99998, 1)\n",
      "Iter 19, noise 0.1, ESN error...\n",
      "Iter 19, noise 0.1, time-series feature...\n",
      "Iter 19, noise 0.1, CD...\n",
      "Iter 19, noise 1.0, SFA2...\n",
      "(100000,) (99998, 1)\n",
      "Iter 19, noise 1.0, ESN error...\n",
      "Iter 19, noise 1.0, time-series feature...\n",
      "Iter 19, noise 1.0, CD...\n"
     ]
    },
    {
     "name": "stderr",
     "output_type": "stream",
     "text": [
      "100%|██████████| 20/20 [11:58:25<00:00, 2155.30s/it]\n"
     ]
    }
   ],
   "source": [
    "# experiment loop\n",
    "RHOS = compute_rho(X, p, func=pycatch22.DN_Spread_Std, var=0)\n",
    "np.save('./data/fig03a2.npy', RHOS, allow_pickle=False)"
   ]
  },
  {
   "cell_type": "code",
   "execution_count": 9,
   "metadata": {},
   "outputs": [
    {
     "name": "stdout",
     "output_type": "stream",
     "text": [
      "0.0012247274819756132\n",
      "0.03477378709380432\n",
      "0.010016263372698531\n",
      "0.0003525450448305986\n",
      "0.0016320465829526064\n",
      "0.027098304720786465\n",
      "0.009672983202620118\n",
      "0.0010544378667481393\n",
      "0.00391435759076289\n",
      "0.02917595232867096\n",
      "0.004784469845874784\n",
      "0.005001298054042682\n"
     ]
    },
    {
     "data": {
      "image/png": "[encoded data removed]",
      "text/plain": [
       "<Figure size 600x240 with 3 Axes>"
      ]
     },
     "metadata": {},
     "output_type": "display_data"
    }
   ],
   "source": [
    "# load data if already computed\n",
    "if os.path.isfile('./data/fig03a2.npy'):\n",
    "    RHOS = np.load('./data/fig03a2.npy')\n",
    "\n",
    "# create figure\n",
    "fig = plot_experiment(X, p, RHOS, markersize=0.001, linewidth=0.1, fname='std', legend=False, text='def')\n",
    "\n",
    "# save figure\n",
    "fig.savefig('./figs/fig03b.pdf', format='pdf', dpi=DPI, bbox_inches='tight')"
   ]
  },
  {
   "cell_type": "markdown",
   "metadata": {},
   "source": [
    "# Harder case - Langford/Aizawa"
   ]
  },
  {
   "cell_type": "code",
   "execution_count": 10,
   "metadata": {},
   "outputs": [],
   "source": [
    "##############################################################################\n",
    "# 2b. Harder case - Aizawa\n",
    "##############################################################################\n",
    "\n",
    "# integrate the Lorenz process\n",
    "T = np.arange(0.0, 1000.0, 0.01)\n",
    "params, p = get_parameters(ProcessLangford , T, 3, f\"sin 2\", 0.1)\n",
    "X = integrateODE(ProcessLangford , T, p=params, method=\"RK45\")"
   ]
  },
  {
   "cell_type": "code",
   "execution_count": 11,
   "metadata": {},
   "outputs": [
    {
     "name": "stderr",
     "output_type": "stream",
     "text": [
      "  0%|          | 0/20 [00:00<?, ?it/s]"
     ]
    },
    {
     "name": "stdout",
     "output_type": "stream",
     "text": [
      "Iter 0, noise 0.01, SFA2...\n",
      "(100000,) (99724, 1)\n",
      "Iter 0, noise 0.01, ESN error...\n",
      "Iter 0, noise 0.01, time-series feature...\n",
      "Iter 0, noise 0.01, CD...\n",
      "Iter 0, noise 0.1, SFA2...\n",
      "(100000,) (99724, 1)\n",
      "Iter 0, noise 0.1, ESN error...\n",
      "Iter 0, noise 0.1, time-series feature...\n",
      "Iter 0, noise 0.1, CD...\n",
      "Iter 0, noise 1.0, SFA2...\n",
      "(100000,) (99730, 1)\n",
      "Iter 0, noise 1.0, ESN error...\n",
      "Iter 0, noise 1.0, time-series feature...\n",
      "Iter 0, noise 1.0, CD...\n"
     ]
    },
    {
     "name": "stderr",
     "output_type": "stream",
     "text": [
      "  5%|▌         | 1/20 [35:53<11:22:05, 2153.99s/it]"
     ]
    },
    {
     "name": "stdout",
     "output_type": "stream",
     "text": [
      "Iter 1, noise 0.01, SFA2...\n",
      "(100000,) (99730, 1)\n",
      "Iter 1, noise 0.01, ESN error...\n",
      "Iter 1, noise 0.01, time-series feature...\n",
      "Iter 1, noise 0.01, CD...\n",
      "Iter 1, noise 0.1, SFA2...\n",
      "(100000,) (99724, 1)\n",
      "Iter 1, noise 0.1, ESN error...\n",
      "Iter 1, noise 0.1, time-series feature...\n",
      "Iter 1, noise 0.1, CD...\n",
      "Iter 1, noise 1.0, SFA2...\n",
      "(100000,) (99724, 1)\n",
      "Iter 1, noise 1.0, ESN error...\n",
      "Iter 1, noise 1.0, time-series feature...\n",
      "Iter 1, noise 1.0, CD...\n"
     ]
    },
    {
     "name": "stderr",
     "output_type": "stream",
     "text": [
      " 10%|█         | 2/20 [1:12:01<10:48:37, 2162.06s/it]"
     ]
    },
    {
     "name": "stdout",
     "output_type": "stream",
     "text": [
      "Iter 2, noise 0.01, SFA2...\n",
      "(100000,) (99730, 1)\n",
      "Iter 2, noise 0.01, ESN error...\n",
      "Iter 2, noise 0.01, time-series feature...\n",
      "Iter 2, noise 0.01, CD...\n",
      "Iter 2, noise 0.1, SFA2...\n",
      "(100000,) (99724, 1)\n",
      "Iter 2, noise 0.1, ESN error...\n",
      "Iter 2, noise 0.1, time-series feature...\n",
      "Iter 2, noise 0.1, CD...\n",
      "Iter 2, noise 1.0, SFA2...\n",
      "(100000,) (99730, 1)\n",
      "Iter 2, noise 1.0, ESN error...\n",
      "Iter 2, noise 1.0, time-series feature...\n",
      "Iter 2, noise 1.0, CD...\n"
     ]
    },
    {
     "name": "stderr",
     "output_type": "stream",
     "text": [
      " 15%|█▌        | 3/20 [1:48:00<10:12:07, 2160.43s/it]"
     ]
    },
    {
     "name": "stdout",
     "output_type": "stream",
     "text": [
      "Iter 3, noise 0.01, SFA2...\n",
      "(100000,) (99730, 1)\n",
      "Iter 3, noise 0.01, ESN error...\n",
      "Iter 3, noise 0.01, time-series feature...\n",
      "Iter 3, noise 0.01, CD...\n",
      "Iter 3, noise 0.1, SFA2...\n",
      "(100000,) (99730, 1)\n",
      "Iter 3, noise 0.1, ESN error...\n",
      "Iter 3, noise 0.1, time-series feature...\n",
      "Iter 3, noise 0.1, CD...\n",
      "Iter 3, noise 1.0, SFA2...\n",
      "(100000,) (99730, 1)\n",
      "Iter 3, noise 1.0, ESN error...\n",
      "Iter 3, noise 1.0, time-series feature...\n",
      "Iter 3, noise 1.0, CD...\n"
     ]
    },
    {
     "name": "stderr",
     "output_type": "stream",
     "text": [
      " 20%|██        | 4/20 [2:23:48<9:34:53, 2155.83s/it] "
     ]
    },
    {
     "name": "stdout",
     "output_type": "stream",
     "text": [
      "Iter 4, noise 0.01, SFA2...\n",
      "(100000,) (99730, 1)\n",
      "Iter 4, noise 0.01, ESN error...\n",
      "Iter 4, noise 0.01, time-series feature...\n",
      "Iter 4, noise 0.01, CD...\n",
      "Iter 4, noise 0.1, SFA2...\n",
      "(100000,) (99730, 1)\n",
      "Iter 4, noise 0.1, ESN error...\n",
      "Iter 4, noise 0.1, time-series feature...\n",
      "Iter 4, noise 0.1, CD...\n",
      "Iter 4, noise 1.0, SFA2...\n",
      "(100000,) (99730, 1)\n",
      "Iter 4, noise 1.0, ESN error...\n",
      "Iter 4, noise 1.0, time-series feature...\n",
      "Iter 4, noise 1.0, CD...\n"
     ]
    },
    {
     "name": "stderr",
     "output_type": "stream",
     "text": [
      " 25%|██▌       | 5/20 [2:59:36<8:58:11, 2152.77s/it]"
     ]
    },
    {
     "name": "stdout",
     "output_type": "stream",
     "text": [
      "Iter 5, noise 0.01, SFA2...\n",
      "(100000,) (99724, 1)\n",
      "Iter 5, noise 0.01, ESN error...\n",
      "Iter 5, noise 0.01, time-series feature...\n",
      "Iter 5, noise 0.01, CD...\n",
      "Iter 5, noise 0.1, SFA2...\n",
      "(100000,) (99730, 1)\n",
      "Iter 5, noise 0.1, ESN error...\n",
      "Iter 5, noise 0.1, time-series feature...\n",
      "Iter 5, noise 0.1, CD...\n",
      "Iter 5, noise 1.0, SFA2...\n",
      "(100000,) (99724, 1)\n",
      "Iter 5, noise 1.0, ESN error...\n",
      "Iter 5, noise 1.0, time-series feature...\n",
      "Iter 5, noise 1.0, CD...\n"
     ]
    },
    {
     "name": "stderr",
     "output_type": "stream",
     "text": [
      " 30%|███       | 6/20 [3:35:27<8:22:09, 2152.11s/it]"
     ]
    },
    {
     "name": "stdout",
     "output_type": "stream",
     "text": [
      "Iter 6, noise 0.01, SFA2...\n",
      "(100000,) (99730, 1)\n",
      "Iter 6, noise 0.01, ESN error...\n",
      "Iter 6, noise 0.01, time-series feature...\n",
      "Iter 6, noise 0.01, CD...\n",
      "Iter 6, noise 0.1, SFA2...\n",
      "(100000,) (99730, 1)\n",
      "Iter 6, noise 0.1, ESN error...\n",
      "Iter 6, noise 0.1, time-series feature...\n",
      "Iter 6, noise 0.1, CD...\n",
      "Iter 6, noise 1.0, SFA2...\n",
      "(100000,) (99730, 1)\n",
      "Iter 6, noise 1.0, ESN error...\n",
      "Iter 6, noise 1.0, time-series feature...\n",
      "Iter 6, noise 1.0, CD...\n"
     ]
    },
    {
     "name": "stderr",
     "output_type": "stream",
     "text": [
      " 35%|███▌      | 7/20 [4:11:26<7:46:49, 2154.57s/it]"
     ]
    },
    {
     "name": "stdout",
     "output_type": "stream",
     "text": [
      "Iter 7, noise 0.01, SFA2...\n",
      "(100000,) (99730, 1)\n",
      "Iter 7, noise 0.01, ESN error...\n",
      "Iter 7, noise 0.01, time-series feature...\n",
      "Iter 7, noise 0.01, CD...\n",
      "Iter 7, noise 0.1, SFA2...\n",
      "(100000,) (99724, 1)\n",
      "Iter 7, noise 0.1, ESN error...\n",
      "Iter 7, noise 0.1, time-series feature...\n",
      "Iter 7, noise 0.1, CD...\n",
      "Iter 7, noise 1.0, SFA2...\n",
      "(100000,) (99724, 1)\n",
      "Iter 7, noise 1.0, ESN error...\n",
      "Iter 7, noise 1.0, time-series feature...\n",
      "Iter 7, noise 1.0, CD...\n"
     ]
    },
    {
     "name": "stderr",
     "output_type": "stream",
     "text": [
      " 40%|████      | 8/20 [4:47:19<7:10:48, 2154.03s/it]"
     ]
    },
    {
     "name": "stdout",
     "output_type": "stream",
     "text": [
      "Iter 8, noise 0.01, SFA2...\n",
      "(100000,) (99730, 1)\n",
      "Iter 8, noise 0.01, ESN error...\n",
      "Iter 8, noise 0.01, time-series feature...\n",
      "Iter 8, noise 0.01, CD...\n",
      "Iter 8, noise 0.1, SFA2...\n",
      "(100000,) (99724, 1)\n",
      "Iter 8, noise 0.1, ESN error...\n",
      "Iter 8, noise 0.1, time-series feature...\n",
      "Iter 8, noise 0.1, CD...\n",
      "Iter 8, noise 1.0, SFA2...\n",
      "(100000,) (99730, 1)\n",
      "Iter 8, noise 1.0, ESN error...\n",
      "Iter 8, noise 1.0, time-series feature...\n",
      "Iter 8, noise 1.0, CD...\n"
     ]
    },
    {
     "name": "stderr",
     "output_type": "stream",
     "text": [
      " 45%|████▌     | 9/20 [5:23:12<6:34:50, 2153.69s/it]"
     ]
    },
    {
     "name": "stdout",
     "output_type": "stream",
     "text": [
      "Iter 9, noise 0.01, SFA2...\n",
      "(100000,) (99730, 1)\n",
      "Iter 9, noise 0.01, ESN error...\n",
      "Iter 9, noise 0.01, time-series feature...\n",
      "Iter 9, noise 0.01, CD...\n",
      "Iter 9, noise 0.1, SFA2...\n",
      "(100000,) (99730, 1)\n",
      "Iter 9, noise 0.1, ESN error...\n",
      "Iter 9, noise 0.1, time-series feature...\n",
      "Iter 9, noise 0.1, CD...\n",
      "Iter 9, noise 1.0, SFA2...\n",
      "(100000,) (99724, 1)\n",
      "Iter 9, noise 1.0, ESN error...\n",
      "Iter 9, noise 1.0, time-series feature...\n",
      "Iter 9, noise 1.0, CD...\n"
     ]
    },
    {
     "name": "stderr",
     "output_type": "stream",
     "text": [
      " 50%|█████     | 10/20 [5:59:01<5:58:42, 2152.25s/it]"
     ]
    },
    {
     "name": "stdout",
     "output_type": "stream",
     "text": [
      "Iter 10, noise 0.01, SFA2...\n",
      "(100000,) (99730, 1)\n",
      "Iter 10, noise 0.01, ESN error...\n",
      "Iter 10, noise 0.01, time-series feature...\n",
      "Iter 10, noise 0.01, CD...\n",
      "Iter 10, noise 0.1, SFA2...\n",
      "(100000,) (99730, 1)\n",
      "Iter 10, noise 0.1, ESN error...\n",
      "Iter 10, noise 0.1, time-series feature...\n",
      "Iter 10, noise 0.1, CD...\n",
      "Iter 10, noise 1.0, SFA2...\n",
      "(100000,) (99724, 1)\n",
      "Iter 10, noise 1.0, ESN error...\n",
      "Iter 10, noise 1.0, time-series feature...\n",
      "Iter 10, noise 1.0, CD...\n"
     ]
    },
    {
     "name": "stderr",
     "output_type": "stream",
     "text": [
      " 55%|█████▌    | 11/20 [6:34:56<5:22:58, 2153.15s/it]"
     ]
    },
    {
     "name": "stdout",
     "output_type": "stream",
     "text": [
      "Iter 11, noise 0.01, SFA2...\n",
      "(100000,) (99730, 1)\n",
      "Iter 11, noise 0.01, ESN error...\n",
      "Iter 11, noise 0.01, time-series feature...\n",
      "Iter 11, noise 0.01, CD...\n",
      "Iter 11, noise 0.1, SFA2...\n",
      "(100000,) (99730, 1)\n",
      "Iter 11, noise 0.1, ESN error...\n",
      "Iter 11, noise 0.1, time-series feature...\n",
      "Iter 11, noise 0.1, CD...\n",
      "Iter 11, noise 1.0, SFA2...\n",
      "(100000,) (99730, 1)\n",
      "Iter 11, noise 1.0, ESN error...\n",
      "Iter 11, noise 1.0, time-series feature...\n",
      "Iter 11, noise 1.0, CD...\n"
     ]
    },
    {
     "name": "stderr",
     "output_type": "stream",
     "text": [
      " 60%|██████    | 12/20 [7:10:44<4:46:51, 2151.39s/it]"
     ]
    },
    {
     "name": "stdout",
     "output_type": "stream",
     "text": [
      "Iter 12, noise 0.01, SFA2...\n",
      "(100000,) (99724, 1)\n",
      "Iter 12, noise 0.01, ESN error...\n",
      "Iter 12, noise 0.01, time-series feature...\n",
      "Iter 12, noise 0.01, CD...\n",
      "Iter 12, noise 0.1, SFA2...\n",
      "(100000,) (99730, 1)\n",
      "Iter 12, noise 0.1, ESN error...\n",
      "Iter 12, noise 0.1, time-series feature...\n",
      "Iter 12, noise 0.1, CD...\n",
      "Iter 12, noise 1.0, SFA2...\n",
      "(100000,) (99730, 1)\n",
      "Iter 12, noise 1.0, ESN error...\n",
      "Iter 12, noise 1.0, time-series feature...\n",
      "Iter 12, noise 1.0, CD...\n"
     ]
    },
    {
     "name": "stderr",
     "output_type": "stream",
     "text": [
      " 65%|██████▌   | 13/20 [7:46:31<4:10:50, 2150.10s/it]"
     ]
    },
    {
     "name": "stdout",
     "output_type": "stream",
     "text": [
      "Iter 13, noise 0.01, SFA2...\n",
      "(100000,) (99730, 1)\n",
      "Iter 13, noise 0.01, ESN error...\n",
      "Iter 13, noise 0.01, time-series feature...\n",
      "Iter 13, noise 0.01, CD...\n",
      "Iter 13, noise 0.1, SFA2...\n",
      "(100000,) (99724, 1)\n",
      "Iter 13, noise 0.1, ESN error...\n",
      "Iter 13, noise 0.1, time-series feature...\n",
      "Iter 13, noise 0.1, CD...\n",
      "Iter 13, noise 1.0, SFA2...\n",
      "(100000,) (99730, 1)\n",
      "Iter 13, noise 1.0, ESN error...\n",
      "Iter 13, noise 1.0, time-series feature...\n",
      "Iter 13, noise 1.0, CD...\n"
     ]
    },
    {
     "name": "stderr",
     "output_type": "stream",
     "text": [
      " 70%|███████   | 14/20 [8:22:20<3:34:58, 2149.80s/it]"
     ]
    },
    {
     "name": "stdout",
     "output_type": "stream",
     "text": [
      "Iter 14, noise 0.01, SFA2...\n",
      "(100000,) (99730, 1)\n",
      "Iter 14, noise 0.01, ESN error...\n",
      "Iter 14, noise 0.01, time-series feature...\n",
      "Iter 14, noise 0.01, CD...\n",
      "Iter 14, noise 0.1, SFA2...\n",
      "(100000,) (99730, 1)\n",
      "Iter 14, noise 0.1, ESN error...\n",
      "Iter 14, noise 0.1, time-series feature...\n",
      "Iter 14, noise 0.1, CD...\n",
      "Iter 14, noise 1.0, SFA2...\n",
      "(100000,) (99730, 1)\n",
      "Iter 14, noise 1.0, ESN error...\n",
      "Iter 14, noise 1.0, time-series feature...\n",
      "Iter 14, noise 1.0, CD...\n"
     ]
    },
    {
     "name": "stderr",
     "output_type": "stream",
     "text": [
      " 75%|███████▌  | 15/20 [8:58:01<2:58:56, 2147.25s/it]"
     ]
    },
    {
     "name": "stdout",
     "output_type": "stream",
     "text": [
      "Iter 15, noise 0.01, SFA2...\n",
      "(100000,) (99724, 1)\n",
      "Iter 15, noise 0.01, ESN error...\n",
      "Iter 15, noise 0.01, time-series feature...\n",
      "Iter 15, noise 0.01, CD...\n",
      "Iter 15, noise 0.1, SFA2...\n",
      "(100000,) (99724, 1)\n",
      "Iter 15, noise 0.1, ESN error...\n",
      "Iter 15, noise 0.1, time-series feature...\n",
      "Iter 15, noise 0.1, CD...\n",
      "Iter 15, noise 1.0, SFA2...\n",
      "(100000,) (99730, 1)\n",
      "Iter 15, noise 1.0, ESN error...\n",
      "Iter 15, noise 1.0, time-series feature...\n",
      "Iter 15, noise 1.0, CD...\n"
     ]
    },
    {
     "name": "stderr",
     "output_type": "stream",
     "text": [
      " 80%|████████  | 16/20 [9:33:45<2:23:04, 2146.14s/it]"
     ]
    },
    {
     "name": "stdout",
     "output_type": "stream",
     "text": [
      "Iter 16, noise 0.01, SFA2...\n",
      "(100000,) (99730, 1)\n",
      "Iter 16, noise 0.01, ESN error...\n",
      "Iter 16, noise 0.01, time-series feature...\n",
      "Iter 16, noise 0.01, CD...\n",
      "Iter 16, noise 0.1, SFA2...\n",
      "(100000,) (99724, 1)\n",
      "Iter 16, noise 0.1, ESN error...\n",
      "Iter 16, noise 0.1, time-series feature...\n",
      "Iter 16, noise 0.1, CD...\n",
      "Iter 16, noise 1.0, SFA2...\n",
      "(100000,) (99730, 1)\n",
      "Iter 16, noise 1.0, ESN error...\n",
      "Iter 16, noise 1.0, time-series feature...\n",
      "Iter 16, noise 1.0, CD...\n"
     ]
    },
    {
     "name": "stderr",
     "output_type": "stream",
     "text": [
      " 85%|████████▌ | 17/20 [10:09:40<1:47:26, 2148.96s/it]"
     ]
    },
    {
     "name": "stdout",
     "output_type": "stream",
     "text": [
      "Iter 17, noise 0.01, SFA2...\n",
      "(100000,) (99724, 1)\n",
      "Iter 17, noise 0.01, ESN error...\n",
      "Iter 17, noise 0.01, time-series feature...\n",
      "Iter 17, noise 0.01, CD...\n",
      "Iter 17, noise 0.1, SFA2...\n",
      "(100000,) (99730, 1)\n",
      "Iter 17, noise 0.1, ESN error...\n",
      "Iter 17, noise 0.1, time-series feature...\n",
      "Iter 17, noise 0.1, CD...\n",
      "Iter 17, noise 1.0, SFA2...\n",
      "(100000,) (99730, 1)\n",
      "Iter 17, noise 1.0, ESN error...\n",
      "Iter 17, noise 1.0, time-series feature...\n",
      "Iter 17, noise 1.0, CD...\n"
     ]
    },
    {
     "name": "stderr",
     "output_type": "stream",
     "text": [
      " 90%|█████████ | 18/20 [10:45:27<1:11:36, 2148.14s/it]"
     ]
    },
    {
     "name": "stdout",
     "output_type": "stream",
     "text": [
      "Iter 18, noise 0.01, SFA2...\n",
      "(100000,) (99730, 1)\n",
      "Iter 18, noise 0.01, ESN error...\n",
      "Iter 18, noise 0.01, time-series feature...\n",
      "Iter 18, noise 0.01, CD...\n",
      "Iter 18, noise 0.1, SFA2...\n",
      "(100000,) (99730, 1)\n",
      "Iter 18, noise 0.1, ESN error...\n",
      "Iter 18, noise 0.1, time-series feature...\n",
      "Iter 18, noise 0.1, CD...\n",
      "Iter 18, noise 1.0, SFA2...\n",
      "(100000,) (99730, 1)\n",
      "Iter 18, noise 1.0, ESN error...\n",
      "Iter 18, noise 1.0, time-series feature...\n",
      "Iter 18, noise 1.0, CD...\n"
     ]
    },
    {
     "name": "stderr",
     "output_type": "stream",
     "text": [
      " 95%|█████████▌| 19/20 [11:21:13<35:47, 2147.56s/it]  "
     ]
    },
    {
     "name": "stdout",
     "output_type": "stream",
     "text": [
      "Iter 19, noise 0.01, SFA2...\n",
      "(100000,) (99730, 1)\n",
      "Iter 19, noise 0.01, ESN error...\n",
      "Iter 19, noise 0.01, time-series feature...\n",
      "Iter 19, noise 0.01, CD...\n",
      "Iter 19, noise 0.1, SFA2...\n",
      "(100000,) (99730, 1)\n",
      "Iter 19, noise 0.1, ESN error...\n",
      "Iter 19, noise 0.1, time-series feature...\n",
      "Iter 19, noise 0.1, CD...\n",
      "Iter 19, noise 1.0, SFA2...\n",
      "(100000,) (99724, 1)\n",
      "Iter 19, noise 1.0, ESN error...\n",
      "Iter 19, noise 1.0, time-series feature...\n",
      "Iter 19, noise 1.0, CD...\n"
     ]
    },
    {
     "name": "stderr",
     "output_type": "stream",
     "text": [
      "100%|██████████| 20/20 [11:56:58<00:00, 2150.93s/it]\n"
     ]
    }
   ],
   "source": [
    "# experiment loop\n",
    "RHOS = compute_rho(X, p, func=pycatch22.CO_f1ecac, var=0)\n",
    "np.save('./data/fig03b.npy', RHOS, allow_pickle=False)"
   ]
  },
  {
   "cell_type": "code",
   "execution_count": 12,
   "metadata": {},
   "outputs": [
    {
     "name": "stdout",
     "output_type": "stream",
     "text": [
      "0.0007159838694086152\n",
      "0.028582571079470615\n",
      "0.0057915165582944125\n",
      "0.0006421618953839071\n",
      "0.0008588279992834433\n",
      "0.045603400020602064\n",
      "0.01123557844944161\n",
      "0.0033205561730205095\n",
      "0.0006750721953356667\n",
      "0.14193740389087814\n",
      "0.03764756129208684\n",
      "0.03346207372906443\n"
     ]
    },
    {
     "data": {
      "image/png": "[encoded data removed]",
      "text/plain": [
       "<Figure size 600x240 with 3 Axes>"
      ]
     },
     "metadata": {},
     "output_type": "display_data"
    }
   ],
   "source": [
    "# load data if already computed\n",
    "if os.path.isfile('./data/fig03b.npy'):\n",
    "    RHOS = np.load('./data/fig03b.npy')\n",
    "\n",
    "# create figure\n",
    "fig = plot_experiment(X, p, RHOS, markersize=1, linewidth=0.1, fname='acf_timescale', legend=False, text='ghi')\n",
    "\n",
    "# save figure\n",
    "fig.savefig('./figs/fig03c.pdf', format='pdf', dpi=DPI, bbox_inches='tight')"
   ]
  },
  {
   "cell_type": "markdown",
   "metadata": {},
   "source": [
    "# Harder case - Sine map"
   ]
  },
  {
   "cell_type": "code",
   "execution_count": 13,
   "metadata": {},
   "outputs": [],
   "source": [
    "T = np.arange(10**5)\n",
    "params, p = get_parameters(ProcessSin, T, 0, \"sin 2\", 0.1)\n",
    "X = computeMap(ProcessSin, T, params)"
   ]
  },
  {
   "cell_type": "code",
   "execution_count": 14,
   "metadata": {},
   "outputs": [
    {
     "name": "stderr",
     "output_type": "stream",
     "text": [
      "  0%|          | 0/20 [00:00<?, ?it/s]"
     ]
    },
    {
     "name": "stdout",
     "output_type": "stream",
     "text": [
      "Iter 0, noise 0.01, SFA2...\n",
      "(100000,) (99988, 1)\n",
      "Iter 0, noise 0.01, ESN error...\n",
      "Iter 0, noise 0.01, time-series feature...\n",
      "Iter 0, noise 0.01, CD...\n",
      "Iter 0, noise 0.1, SFA2...\n",
      "(100000,) (99988, 1)\n",
      "Iter 0, noise 0.1, ESN error...\n",
      "Iter 0, noise 0.1, time-series feature...\n",
      "Iter 0, noise 0.1, CD...\n",
      "Iter 0, noise 1.0, SFA2...\n",
      "(100000,) (99988, 1)\n",
      "Iter 0, noise 1.0, ESN error...\n",
      "Iter 0, noise 1.0, time-series feature...\n",
      "Iter 0, noise 1.0, CD...\n"
     ]
    },
    {
     "name": "stderr",
     "output_type": "stream",
     "text": [
      "  5%|▌         | 1/20 [35:46<11:19:51, 2146.94s/it]"
     ]
    },
    {
     "name": "stdout",
     "output_type": "stream",
     "text": [
      "Iter 1, noise 0.01, SFA2...\n",
      "(100000,) (99988, 1)\n",
      "Iter 1, noise 0.01, ESN error...\n",
      "Iter 1, noise 0.01, time-series feature...\n",
      "Iter 1, noise 0.01, CD...\n",
      "Iter 1, noise 0.1, SFA2...\n",
      "(100000,) (99988, 1)\n",
      "Iter 1, noise 0.1, ESN error...\n",
      "Iter 1, noise 0.1, time-series feature...\n",
      "Iter 1, noise 0.1, CD...\n",
      "Iter 1, noise 1.0, SFA2...\n",
      "(100000,) (99988, 1)\n",
      "Iter 1, noise 1.0, ESN error...\n",
      "Iter 1, noise 1.0, time-series feature...\n",
      "Iter 1, noise 1.0, CD...\n"
     ]
    },
    {
     "name": "stderr",
     "output_type": "stream",
     "text": [
      " 10%|█         | 2/20 [1:11:46<10:46:15, 2154.18s/it]"
     ]
    },
    {
     "name": "stdout",
     "output_type": "stream",
     "text": [
      "Iter 2, noise 0.01, SFA2...\n",
      "(100000,) (99988, 1)\n",
      "Iter 2, noise 0.01, ESN error...\n",
      "Iter 2, noise 0.01, time-series feature...\n",
      "Iter 2, noise 0.01, CD...\n",
      "Iter 2, noise 0.1, SFA2...\n",
      "(100000,) (99988, 1)\n",
      "Iter 2, noise 0.1, ESN error...\n",
      "Iter 2, noise 0.1, time-series feature...\n",
      "Iter 2, noise 0.1, CD...\n",
      "Iter 2, noise 1.0, SFA2...\n",
      "(100000,) (99988, 1)\n",
      "Iter 2, noise 1.0, ESN error...\n",
      "Iter 2, noise 1.0, time-series feature...\n",
      "Iter 2, noise 1.0, CD...\n"
     ]
    },
    {
     "name": "stderr",
     "output_type": "stream",
     "text": [
      " 15%|█▌        | 3/20 [1:47:36<10:09:50, 2152.37s/it]"
     ]
    },
    {
     "name": "stdout",
     "output_type": "stream",
     "text": [
      "Iter 3, noise 0.01, SFA2...\n",
      "(100000,) (99988, 1)\n",
      "Iter 3, noise 0.01, ESN error...\n",
      "Iter 3, noise 0.01, time-series feature...\n",
      "Iter 3, noise 0.01, CD...\n",
      "Iter 3, noise 0.1, SFA2...\n",
      "(100000,) (99988, 1)\n",
      "Iter 3, noise 0.1, ESN error...\n",
      "Iter 3, noise 0.1, time-series feature...\n",
      "Iter 3, noise 0.1, CD...\n",
      "Iter 3, noise 1.0, SFA2...\n",
      "(100000,) (99988, 1)\n",
      "Iter 3, noise 1.0, ESN error...\n",
      "Iter 3, noise 1.0, time-series feature...\n",
      "Iter 3, noise 1.0, CD...\n"
     ]
    },
    {
     "name": "stderr",
     "output_type": "stream",
     "text": [
      " 20%|██        | 4/20 [2:23:29<9:34:02, 2152.67s/it] "
     ]
    },
    {
     "name": "stdout",
     "output_type": "stream",
     "text": [
      "Iter 4, noise 0.01, SFA2...\n",
      "(100000,) (99988, 1)\n",
      "Iter 4, noise 0.01, ESN error...\n",
      "Iter 4, noise 0.01, time-series feature...\n",
      "Iter 4, noise 0.01, CD...\n",
      "Iter 4, noise 0.1, SFA2...\n",
      "(100000,) (99988, 1)\n",
      "Iter 4, noise 0.1, ESN error...\n",
      "Iter 4, noise 0.1, time-series feature...\n",
      "Iter 4, noise 0.1, CD...\n",
      "Iter 4, noise 1.0, SFA2...\n",
      "(100000,) (99988, 1)\n",
      "Iter 4, noise 1.0, ESN error...\n",
      "Iter 4, noise 1.0, time-series feature...\n",
      "Iter 4, noise 1.0, CD...\n"
     ]
    },
    {
     "name": "stderr",
     "output_type": "stream",
     "text": [
      " 25%|██▌       | 5/20 [2:59:12<8:57:18, 2149.26s/it]"
     ]
    },
    {
     "name": "stdout",
     "output_type": "stream",
     "text": [
      "Iter 5, noise 0.01, SFA2...\n",
      "(100000,) (99988, 1)\n",
      "Iter 5, noise 0.01, ESN error...\n",
      "Iter 5, noise 0.01, time-series feature...\n",
      "Iter 5, noise 0.01, CD...\n",
      "Iter 5, noise 0.1, SFA2...\n",
      "(100000,) (99988, 1)\n",
      "Iter 5, noise 0.1, ESN error...\n",
      "Iter 5, noise 0.1, time-series feature...\n",
      "Iter 5, noise 0.1, CD...\n",
      "Iter 5, noise 1.0, SFA2...\n",
      "(100000,) (99988, 1)\n",
      "Iter 5, noise 1.0, ESN error...\n",
      "Iter 5, noise 1.0, time-series feature...\n",
      "Iter 5, noise 1.0, CD...\n"
     ]
    },
    {
     "name": "stderr",
     "output_type": "stream",
     "text": [
      " 30%|███       | 6/20 [3:35:11<8:22:12, 2152.34s/it]"
     ]
    },
    {
     "name": "stdout",
     "output_type": "stream",
     "text": [
      "Iter 6, noise 0.01, SFA2...\n",
      "(100000,) (99988, 1)\n",
      "Iter 6, noise 0.01, ESN error...\n",
      "Iter 6, noise 0.01, time-series feature...\n",
      "Iter 6, noise 0.01, CD...\n",
      "Iter 6, noise 0.1, SFA2...\n",
      "(100000,) (99988, 1)\n",
      "Iter 6, noise 0.1, ESN error...\n",
      "Iter 6, noise 0.1, time-series feature...\n",
      "Iter 6, noise 0.1, CD...\n",
      "Iter 6, noise 1.0, SFA2...\n",
      "(100000,) (99988, 1)\n",
      "Iter 6, noise 1.0, ESN error...\n",
      "Iter 6, noise 1.0, time-series feature...\n",
      "Iter 6, noise 1.0, CD...\n"
     ]
    },
    {
     "name": "stderr",
     "output_type": "stream",
     "text": [
      " 35%|███▌      | 7/20 [4:11:00<7:46:07, 2151.31s/it]"
     ]
    },
    {
     "name": "stdout",
     "output_type": "stream",
     "text": [
      "Iter 7, noise 0.01, SFA2...\n",
      "(100000,) (99988, 1)\n",
      "Iter 7, noise 0.01, ESN error...\n",
      "Iter 7, noise 0.01, time-series feature...\n",
      "Iter 7, noise 0.01, CD...\n",
      "Iter 7, noise 0.1, SFA2...\n",
      "(100000,) (99988, 1)\n",
      "Iter 7, noise 0.1, ESN error...\n",
      "Iter 7, noise 0.1, time-series feature...\n",
      "Iter 7, noise 0.1, CD...\n",
      "Iter 7, noise 1.0, SFA2...\n",
      "(100000,) (99988, 1)\n",
      "Iter 7, noise 1.0, ESN error...\n",
      "Iter 7, noise 1.0, time-series feature...\n",
      "Iter 7, noise 1.0, CD...\n"
     ]
    },
    {
     "name": "stderr",
     "output_type": "stream",
     "text": [
      " 40%|████      | 8/20 [4:46:55<7:10:30, 2152.55s/it]"
     ]
    },
    {
     "name": "stdout",
     "output_type": "stream",
     "text": [
      "Iter 8, noise 0.01, SFA2...\n",
      "(100000,) (99988, 1)\n",
      "Iter 8, noise 0.01, ESN error...\n",
      "Iter 8, noise 0.01, time-series feature...\n",
      "Iter 8, noise 0.01, CD...\n",
      "Iter 8, noise 0.1, SFA2...\n",
      "(100000,) (99988, 1)\n",
      "Iter 8, noise 0.1, ESN error...\n",
      "Iter 8, noise 0.1, time-series feature...\n",
      "Iter 8, noise 0.1, CD...\n",
      "Iter 8, noise 1.0, SFA2...\n",
      "(100000,) (99988, 1)\n",
      "Iter 8, noise 1.0, ESN error...\n",
      "Iter 8, noise 1.0, time-series feature...\n",
      "Iter 8, noise 1.0, CD...\n"
     ]
    },
    {
     "name": "stderr",
     "output_type": "stream",
     "text": [
      " 45%|████▌     | 9/20 [5:22:46<6:34:32, 2152.05s/it]"
     ]
    },
    {
     "name": "stdout",
     "output_type": "stream",
     "text": [
      "Iter 9, noise 0.01, SFA2...\n",
      "(100000,) (99988, 1)\n",
      "Iter 9, noise 0.01, ESN error...\n",
      "Iter 9, noise 0.01, time-series feature...\n",
      "Iter 9, noise 0.01, CD...\n",
      "Iter 9, noise 0.1, SFA2...\n",
      "(100000,) (99988, 1)\n",
      "Iter 9, noise 0.1, ESN error...\n",
      "Iter 9, noise 0.1, time-series feature...\n",
      "Iter 9, noise 0.1, CD...\n",
      "Iter 9, noise 1.0, SFA2...\n",
      "(100000,) (99988, 1)\n",
      "Iter 9, noise 1.0, ESN error...\n",
      "Iter 9, noise 1.0, time-series feature...\n",
      "Iter 9, noise 1.0, CD...\n"
     ]
    },
    {
     "name": "stderr",
     "output_type": "stream",
     "text": [
      " 50%|█████     | 10/20 [5:58:34<5:58:27, 2150.74s/it]"
     ]
    },
    {
     "name": "stdout",
     "output_type": "stream",
     "text": [
      "Iter 10, noise 0.01, SFA2...\n",
      "(100000,) (99988, 1)\n",
      "Iter 10, noise 0.01, ESN error...\n",
      "Iter 10, noise 0.01, time-series feature...\n",
      "Iter 10, noise 0.01, CD...\n",
      "Iter 10, noise 0.1, SFA2...\n",
      "(100000,) (99988, 1)\n",
      "Iter 10, noise 0.1, ESN error...\n",
      "Iter 10, noise 0.1, time-series feature...\n",
      "Iter 10, noise 0.1, CD...\n",
      "Iter 10, noise 1.0, SFA2...\n",
      "(100000,) (99988, 1)\n",
      "Iter 10, noise 1.0, ESN error...\n",
      "Iter 10, noise 1.0, time-series feature...\n",
      "Iter 10, noise 1.0, CD...\n"
     ]
    },
    {
     "name": "stderr",
     "output_type": "stream",
     "text": [
      " 55%|█████▌    | 11/20 [6:34:33<5:22:59, 2153.26s/it]"
     ]
    },
    {
     "name": "stdout",
     "output_type": "stream",
     "text": [
      "Iter 11, noise 0.01, SFA2...\n",
      "(100000,) (99988, 1)\n",
      "Iter 11, noise 0.01, ESN error...\n",
      "Iter 11, noise 0.01, time-series feature...\n",
      "Iter 11, noise 0.01, CD...\n",
      "Iter 11, noise 0.1, SFA2...\n",
      "(100000,) (99988, 1)\n",
      "Iter 11, noise 0.1, ESN error...\n",
      "Iter 11, noise 0.1, time-series feature...\n",
      "Iter 11, noise 0.1, CD...\n",
      "Iter 11, noise 1.0, SFA2...\n",
      "(100000,) (99988, 1)\n",
      "Iter 11, noise 1.0, ESN error...\n",
      "Iter 11, noise 1.0, time-series feature...\n",
      "Iter 11, noise 1.0, CD...\n"
     ]
    },
    {
     "name": "stderr",
     "output_type": "stream",
     "text": [
      " 60%|██████    | 12/20 [7:10:32<4:47:20, 2155.01s/it]"
     ]
    },
    {
     "name": "stdout",
     "output_type": "stream",
     "text": [
      "Iter 12, noise 0.01, SFA2...\n",
      "(100000,) (99988, 1)\n",
      "Iter 12, noise 0.01, ESN error...\n",
      "Iter 12, noise 0.01, time-series feature...\n",
      "Iter 12, noise 0.01, CD...\n",
      "Iter 12, noise 0.1, SFA2...\n",
      "(100000,) (99988, 1)\n",
      "Iter 12, noise 0.1, ESN error...\n",
      "Iter 12, noise 0.1, time-series feature...\n",
      "Iter 12, noise 0.1, CD...\n",
      "Iter 12, noise 1.0, SFA2...\n",
      "(100000,) (99988, 1)\n",
      "Iter 12, noise 1.0, ESN error...\n",
      "Iter 12, noise 1.0, time-series feature...\n",
      "Iter 12, noise 1.0, CD...\n"
     ]
    },
    {
     "name": "stderr",
     "output_type": "stream",
     "text": [
      " 65%|██████▌   | 13/20 [7:46:29<4:11:29, 2155.61s/it]"
     ]
    },
    {
     "name": "stdout",
     "output_type": "stream",
     "text": [
      "Iter 13, noise 0.01, SFA2...\n",
      "(100000,) (99988, 1)\n",
      "Iter 13, noise 0.01, ESN error...\n",
      "Iter 13, noise 0.01, time-series feature...\n",
      "Iter 13, noise 0.01, CD...\n",
      "Iter 13, noise 0.1, SFA2...\n",
      "(100000,) (99988, 1)\n",
      "Iter 13, noise 0.1, ESN error...\n",
      "Iter 13, noise 0.1, time-series feature...\n",
      "Iter 13, noise 0.1, CD...\n",
      "Iter 13, noise 1.0, SFA2...\n",
      "(100000,) (99988, 1)\n",
      "Iter 13, noise 1.0, ESN error...\n",
      "Iter 13, noise 1.0, time-series feature...\n",
      "Iter 13, noise 1.0, CD...\n"
     ]
    },
    {
     "name": "stderr",
     "output_type": "stream",
     "text": [
      " 70%|███████   | 14/20 [8:22:22<3:35:29, 2154.87s/it]"
     ]
    },
    {
     "name": "stdout",
     "output_type": "stream",
     "text": [
      "Iter 14, noise 0.01, SFA2...\n",
      "(100000,) (99988, 1)\n",
      "Iter 14, noise 0.01, ESN error...\n",
      "Iter 14, noise 0.01, time-series feature...\n",
      "Iter 14, noise 0.01, CD...\n",
      "Iter 14, noise 0.1, SFA2...\n",
      "(100000,) (99988, 1)\n",
      "Iter 14, noise 0.1, ESN error...\n",
      "Iter 14, noise 0.1, time-series feature...\n",
      "Iter 14, noise 0.1, CD...\n",
      "Iter 14, noise 1.0, SFA2...\n",
      "(100000,) (99988, 1)\n",
      "Iter 14, noise 1.0, ESN error...\n",
      "Iter 14, noise 1.0, time-series feature...\n",
      "Iter 14, noise 1.0, CD...\n"
     ]
    },
    {
     "name": "stderr",
     "output_type": "stream",
     "text": [
      " 75%|███████▌  | 15/20 [8:58:20<2:59:38, 2155.78s/it]"
     ]
    },
    {
     "name": "stdout",
     "output_type": "stream",
     "text": [
      "Iter 15, noise 0.01, SFA2...\n",
      "(100000,) (99988, 1)\n",
      "Iter 15, noise 0.01, ESN error...\n",
      "Iter 15, noise 0.01, time-series feature...\n",
      "Iter 15, noise 0.01, CD...\n",
      "Iter 15, noise 0.1, SFA2...\n",
      "(100000,) (99988, 1)\n",
      "Iter 15, noise 0.1, ESN error...\n",
      "Iter 15, noise 0.1, time-series feature...\n",
      "Iter 15, noise 0.1, CD...\n",
      "Iter 15, noise 1.0, SFA2...\n",
      "(100000,) (99988, 1)\n",
      "Iter 15, noise 1.0, ESN error...\n",
      "Iter 15, noise 1.0, time-series feature...\n",
      "Iter 15, noise 1.0, CD...\n"
     ]
    },
    {
     "name": "stderr",
     "output_type": "stream",
     "text": [
      " 80%|████████  | 16/20 [9:34:14<2:23:41, 2155.34s/it]"
     ]
    },
    {
     "name": "stdout",
     "output_type": "stream",
     "text": [
      "Iter 16, noise 0.01, SFA2...\n",
      "(100000,) (99988, 1)\n",
      "Iter 16, noise 0.01, ESN error...\n",
      "Iter 16, noise 0.01, time-series feature...\n",
      "Iter 16, noise 0.01, CD...\n",
      "Iter 16, noise 0.1, SFA2...\n",
      "(100000,) (99988, 1)\n",
      "Iter 16, noise 0.1, ESN error...\n",
      "Iter 16, noise 0.1, time-series feature...\n",
      "Iter 16, noise 0.1, CD...\n",
      "Iter 16, noise 1.0, SFA2...\n",
      "(100000,) (99988, 1)\n",
      "Iter 16, noise 1.0, ESN error...\n",
      "Iter 16, noise 1.0, time-series feature...\n",
      "Iter 16, noise 1.0, CD...\n"
     ]
    },
    {
     "name": "stderr",
     "output_type": "stream",
     "text": [
      " 85%|████████▌ | 17/20 [10:10:04<1:47:41, 2153.69s/it]"
     ]
    },
    {
     "name": "stdout",
     "output_type": "stream",
     "text": [
      "Iter 17, noise 0.01, SFA2...\n",
      "(100000,) (99988, 1)\n",
      "Iter 17, noise 0.01, ESN error...\n",
      "Iter 17, noise 0.01, time-series feature...\n",
      "Iter 17, noise 0.01, CD...\n",
      "Iter 17, noise 0.1, SFA2...\n",
      "(100000,) (99988, 1)\n",
      "Iter 17, noise 0.1, ESN error...\n",
      "Iter 17, noise 0.1, time-series feature...\n",
      "Iter 17, noise 0.1, CD...\n",
      "Iter 17, noise 1.0, SFA2...\n",
      "(100000,) (99988, 1)\n",
      "Iter 17, noise 1.0, ESN error...\n",
      "Iter 17, noise 1.0, time-series feature...\n",
      "Iter 17, noise 1.0, CD...\n"
     ]
    },
    {
     "name": "stderr",
     "output_type": "stream",
     "text": [
      " 90%|█████████ | 18/20 [10:46:01<1:11:49, 2154.84s/it]"
     ]
    },
    {
     "name": "stdout",
     "output_type": "stream",
     "text": [
      "Iter 18, noise 0.01, SFA2...\n",
      "(100000,) (99988, 1)\n",
      "Iter 18, noise 0.01, ESN error...\n",
      "Iter 18, noise 0.01, time-series feature...\n",
      "Iter 18, noise 0.01, CD...\n",
      "Iter 18, noise 0.1, SFA2...\n",
      "(100000,) (99988, 1)\n",
      "Iter 18, noise 0.1, ESN error...\n",
      "Iter 18, noise 0.1, time-series feature...\n",
      "Iter 18, noise 0.1, CD...\n",
      "Iter 18, noise 1.0, SFA2...\n",
      "(100000,) (99988, 1)\n",
      "Iter 18, noise 1.0, ESN error...\n",
      "Iter 18, noise 1.0, time-series feature...\n",
      "Iter 18, noise 1.0, CD...\n"
     ]
    },
    {
     "name": "stderr",
     "output_type": "stream",
     "text": [
      " 95%|█████████▌| 19/20 [11:21:49<35:52, 2152.78s/it]  "
     ]
    },
    {
     "name": "stdout",
     "output_type": "stream",
     "text": [
      "Iter 19, noise 0.01, SFA2...\n",
      "(100000,) (99988, 1)\n",
      "Iter 19, noise 0.01, ESN error...\n",
      "Iter 19, noise 0.01, time-series feature...\n",
      "Iter 19, noise 0.01, CD...\n",
      "Iter 19, noise 0.1, SFA2...\n",
      "(100000,) (99988, 1)\n",
      "Iter 19, noise 0.1, ESN error...\n",
      "Iter 19, noise 0.1, time-series feature...\n",
      "Iter 19, noise 0.1, CD...\n",
      "Iter 19, noise 1.0, SFA2...\n",
      "(100000,) (99988, 1)\n",
      "Iter 19, noise 1.0, ESN error...\n",
      "Iter 19, noise 1.0, time-series feature...\n",
      "Iter 19, noise 1.0, CD...\n"
     ]
    },
    {
     "name": "stderr",
     "output_type": "stream",
     "text": [
      "100%|██████████| 20/20 [11:57:40<00:00, 2153.02s/it]\n"
     ]
    }
   ],
   "source": [
    "# experiment loop\n",
    "RHOS = compute_rho(X, p, func=pycatch22.SP_Summaries_welch_rect_centroid, var=0)\n",
    "np.save('./data/fig03d.npy', RHOS, allow_pickle=False)"
   ]
  },
  {
   "cell_type": "code",
   "execution_count": 15,
   "metadata": {},
   "outputs": [
    {
     "name": "stdout",
     "output_type": "stream",
     "text": [
      "0.0004538243560279224\n",
      "0.021133240076962764\n",
      "0.009586879639554754\n",
      "0.0007732035656703758\n",
      "0.001711537868968963\n",
      "0.03551034596363576\n",
      "0.021493677876067274\n",
      "0.001748741535133745\n",
      "0.004117372258709917\n",
      "0.08931768553827855\n",
      "0.047635614371160734\n",
      "0.006074406590073808\n"
     ]
    },
    {
     "data": {
      "image/png": "[encoded data removed]",
      "text/plain": [
       "<Figure size 600x240 with 3 Axes>"
      ]
     },
     "metadata": {},
     "output_type": "display_data"
    }
   ],
   "source": [
    "# load data if already computed\n",
    "if os.path.isfile('./data/fig03d.npy'):\n",
    "    RHOS = np.load('./data/fig03d.npy')\n",
    "\n",
    "# create figure\n",
    "fig = plot_experiment(X, p, RHOS, markersize=0.001, linewidth=0.1, fname='centroid_freq', legend=False, text='jkl')\n",
    "\n",
    "# save figure\n",
    "fig.savefig('./figs/fig03d.pdf', format='pdf', dpi=DPI, bbox_inches='tight')"
   ]
  }
 ],
 "metadata": {
  "kernelspec": {
   "display_name": "mdp",
   "language": "python",
   "name": "python3"
  },
  "language_info": {
   "codemirror_mode": {
    "name": "ipython",
    "version": 3
   },
   "file_extension": ".py",
   "mimetype": "text/x-python",
   "name": "python",
   "nbconvert_exporter": "python",
   "pygments_lexer": "ipython3",
   "version": "3.1.undefined"
  },
  "orig_nbformat": 4
 },
 "nbformat": 4,
 "nbformat_minor": 2
}
